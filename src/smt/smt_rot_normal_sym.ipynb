{
 "cells": [
  {
   "cell_type": "markdown",
   "source": [
    "|  Surname | Name   | Matricola   | Accademic Mail   |\r\n",
    "|---|---|---|---|\r\n",
    "|Rossetto   | Eric     | 982594    | eric.rossetto@studio.unibo.it |\r\n",
    "|Wen          | Xiaowei   | 982501  | xiaowei.wen@studio.unibo.it  |  \r\n",
    "\r\n",
    "\r\n",
    "MSc student in Artificial Intelligence\r\n",
    "@ Alma Mater Studiorum, University of Bologna  \r\n",
    "August, 2021"
   ],
   "metadata": {}
  },
  {
   "cell_type": "markdown",
   "source": [
    "# Importing libraries"
   ],
   "metadata": {}
  },
  {
   "cell_type": "code",
   "execution_count": 17,
   "source": [
    "from z3 import *\r\n",
    "import numpy as np\r\n",
    "import os\r\n",
    "import matplotlib.pyplot as plt\r\n",
    "import cv2\r\n",
    "import matplotlib.patches as mpatches\r\n",
    "import time\r\n",
    "import json"
   ],
   "outputs": [],
   "metadata": {
    "colab": {
     "base_uri": "https://localhost:8080/"
    },
    "id": "GwbF6nuHjsS-",
    "outputId": "1af19bcc-a366-4334-82c3-1325b7a27cce",
    "pycharm": {
     "is_executing": true
    }
   }
  },
  {
   "cell_type": "markdown",
   "source": [
    "# Defining functions "
   ],
   "metadata": {}
  },
  {
   "cell_type": "code",
   "execution_count": 18,
   "source": [
    "from tools import *"
   ],
   "outputs": [],
   "metadata": {}
  },
  {
   "cell_type": "markdown",
   "source": [
    "# Defining function for SMT instance"
   ],
   "metadata": {}
  },
  {
   "cell_type": "code",
   "execution_count": 19,
   "source": [
    "def vlsi_instance(W, H, dims, width, max_height, time_out = 300):\r\n",
    "  \"\"\"\r\n",
    "    Variable declaration\r\n",
    "    W: width of all circuits\r\n",
    "    H: height of all circuits\r\n",
    "    dims: number of circuits\r\n",
    "    width: width of the board/ solution\r\n",
    "    max_height: maximum height reachable by stacking all circuits. \r\n",
    "    time_out: timeout for the solver in seconds\r\n",
    "  \"\"\"\r\n",
    "  # decision variable for the height\r\n",
    "  all_constraints = []\r\n",
    "  height = Int('height')\r\n",
    "\r\n",
    "  rot = [Int(f\"rot_{i}\") for i in range(dims)]\r\n",
    "  rotation_cons = [And(rot[i]>=0, rot[i]<=1) for i in range(dims)]\r\n",
    "  all_constraints += rotation_cons\r\n",
    "\r\n",
    "  # X component of the solution where to place the circuits\r\n",
    "  X = [Int(f\"X_{i}\") for i in range(dims)]\r\n",
    "  \r\n",
    "  # Y component of the solution where to place the circuits\r\n",
    "  Y = [Int(f\"Y_{i}\") for i in range(dims)]\r\n",
    "\r\n",
    "  # width boundaries constraints\r\n",
    "  boundaries_c_width = [And(0 <= X[i], X[i] +(1 - rot[i]) * W[i] +  rot[i]*H[i] <= width) for i in range(dims)]\r\n",
    "  all_constraints+= boundaries_c_width\r\n",
    "\r\n",
    "  # height boundaries constraints\r\n",
    "  boundaries_c_height = [0 <= Y[i] for i in range(dims)] \r\n",
    "  all_constraints += boundaries_c_height\r\n",
    "  \r\n",
    "  # height constraints\r\n",
    "  height_constraint = [Y[i] + (1 - rot[i]) * H[i] + rot[i] * W[i]  <= height for i in range(dims)]\r\n",
    "  all_constraints += height_constraint\r\n",
    "\r\n",
    "  biggest = int(np.argmax(np.array(H)*np.array(W)))\r\n",
    "  # symmetry breaking \r\n",
    "  all_constraints +=  [And(X[biggest]==0 , Y[biggest]==0 )]\r\n",
    "  # all_constraints +=  [And(X[biggest]*2<= height , Y[biggest]*2 <=width )]\r\n",
    "\r\n",
    "  # height constraints\r\n",
    "  height_constraint = [Y[i]+H[i]<=height for i in range(dims)]\r\n",
    "  all_constraints += height_constraint\r\n",
    "\r\n",
    "  # no overlapping constraints\r\n",
    "  no_overlapping = []    \r\n",
    "  for i in range(dims):\r\n",
    "    for j in range(dims):\r\n",
    "      if i != j:\r\n",
    "        no_overlapping.append(\r\n",
    "                Or(\r\n",
    "                X[i] + rot[i] * H[i] + (1 - rot[i]) * W[i] <= X[j],\r\n",
    "                Y[i] + rot[i] * W[i] + (1 - rot[i]) * H[i] <= Y[j],\r\n",
    "                X[i] - rot[j] * H[j] - (1 - rot[j]) * W[j] >= X[j],\r\n",
    "                Y[i] - rot[j] * W[j] - (1 - rot[j]) * H[j] >= Y[j])) \r\n",
    "  all_constraints += no_overlapping\r\n",
    "\r\n",
    "  \"\"\"\r\n",
    "    Solving phase\r\n",
    "  \"\"\"\r\n",
    "  solver = Optimize()\r\n",
    "  # print(str(all_constraints))\r\n",
    "  solver.add(all_constraints)\r\n",
    "  # minimizing function\r\n",
    "  if time_out != -1:\r\n",
    "    solver.set(\"timeout\",time_out*1000)\r\n",
    "  solver.minimize(height)\r\n",
    "  if solver.check() == sat:\r\n",
    "    m = solver.model()\r\n",
    "    return int(m.evaluate(height).as_string()), [int(m.evaluate(X[i]).as_string()) for i in range(dims)], \\\r\n",
    "    [int(m.evaluate(Y[i]).as_string()) for i in range(dims)], \\\r\n",
    "    [int(m.evaluate(rot[i]).as_string()) for i in range(dims)]\r\n",
    "  else:\r\n",
    "    print(solver.reason_unknown())\r\n",
    "    return None\r\n",
    "\r\n"
   ],
   "outputs": [],
   "metadata": {
    "id": "oeF-duspjxLz"
   }
  },
  {
   "cell_type": "markdown",
   "source": [
    "# Solving\r\n",
    "## reading solution time per instance"
   ],
   "metadata": {}
  },
  {
   "cell_type": "code",
   "execution_count": 20,
   "source": [
    "time_table = \"time_table_ext.json\"\r\n",
    "time_per_instance = []\r\n",
    "with open(time_table, \"r\") as f:\r\n",
    "    time_json = json.load(f)"
   ],
   "outputs": [],
   "metadata": {}
  },
  {
   "cell_type": "markdown",
   "source": [
    "## Getting instances "
   ],
   "metadata": {}
  },
  {
   "cell_type": "code",
   "execution_count": 21,
   "source": [
    "path = \"../../instances/\"\r\n",
    "# solve all instances in path\r\n",
    "# instances = os.listdir(path)\r\n",
    "\r\n",
    "# solve a certain range of the instances\r\n",
    "# instances = [f\"ins-{i}.txt\" for i in range (10,19)]\r\n",
    "\r\n",
    "# solve a specified instance\r\n",
    "instances = [f\"ins-{19}.txt\"]\r\n",
    "\r\n",
    "# solve those unsolved instances\r\n",
    "# instances = []\r\n",
    "# for key, value in time_json.items():\r\n",
    "#   if value == -1:\r\n",
    "#     instances.append(key)\r\n"
   ],
   "outputs": [],
   "metadata": {}
  },
  {
   "cell_type": "markdown",
   "source": [
    "## Solving instances"
   ],
   "metadata": {}
  },
  {
   "cell_type": "code",
   "execution_count": 22,
   "source": [
    "for i in range(len(instances)):\r\n",
    "    # print(path+instance)\r\n",
    "    instance = instances[i]\r\n",
    "    print(f\"Instance {i+1}:\")\r\n",
    "    width, W, H = read_instance_text(path + instance)\r\n",
    "    # print(dims)\r\n",
    "    max_height = np.sum([H[i] for i in range(len(H))], dtype=int)\r\n",
    "    # print(f\"Maximum height reachable: {max_height}\")\r\n",
    "\r\n",
    "    start_time = time.time_ns()\r\n",
    "    returned_value = vlsi_instance(W, H, len(W), width, max_height)\r\n",
    "    if returned_value is not None:\r\n",
    "        height, X, Y, rot = returned_value\r\n",
    "        end_time = time.time_ns()\r\n",
    "        end_time = (end_time - start_time) / 10 ** 9\r\n",
    "        print(f\"Solution (width, height): {width, height}, time: {round(end_time, 4)}s\")\r\n",
    "        print(returned_value)\r\n",
    "        time_json[instance] = end_time\r\n",
    "\r\n",
    "        # showing solutions\r\n",
    "        solutions = dims_sol_unify_rot(W, H, X, Y, rot)\r\n",
    "        save_sol_rot(\"rot_sym_sol/\" + instance.replace(\"ins\", \"sol\"), width, height, W, H, X, Y, rot)\r\n",
    "        # print(check_sat_rot((width,height), solutions))\r\n",
    "        arr = draw_solution_rot((width, height), solutions)\r\n",
    "        show_shape(arr, instance, len(W))\r\n",
    "    else:\r\n",
    "        time_json[instance] = -1\r\n"
   ],
   "outputs": [
    {
     "output_type": "stream",
     "name": "stdout",
     "text": [
      "Instance 1:\n",
      "canceled\n"
     ]
    }
   ],
   "metadata": {
    "colab": {
     "base_uri": "https://localhost:8080/"
    },
    "id": "cj7ibEOTlCZY",
    "outputId": "e5a4db9f-05c2-47cd-901c-a41c0f249308",
    "pycharm": {
     "name": "#%%\n"
    }
   }
  },
  {
   "cell_type": "markdown",
   "source": [
    "## Saving time table"
   ],
   "metadata": {}
  },
  {
   "cell_type": "code",
   "execution_count": 23,
   "source": [
    "with open(time_table, \"w\") as outfile:\r\n",
    "    data = json.dumps(time_json, indent=4, sort_keys=True)\r\n",
    "    outfile.write(data)"
   ],
   "outputs": [],
   "metadata": {}
  },
  {
   "cell_type": "markdown",
   "source": [
    "## Performance Analysis"
   ],
   "metadata": {
    "collapsed": false,
    "pycharm": {
     "name": "#%% md\n"
    }
   }
  },
  {
   "cell_type": "code",
   "execution_count": 24,
   "source": [
    "acc = 0\r\n",
    "counter = 0\r\n",
    "for k,v in time_json.items():\r\n",
    "    if v != -1:\r\n",
    "        acc +=v\r\n",
    "        counter+=1\r\n",
    "\r\n",
    "print(f\"Number of successfully solved instances: {counter}\")\r\n",
    "print(f\"Average time per instance: {np.round(acc/counter, decimals=2)}/s\")\r\n"
   ],
   "outputs": [
    {
     "output_type": "stream",
     "name": "stdout",
     "text": [
      "Number of successfully solved instances: 5\n",
      "Average time per instance: 110.39/s\n"
     ]
    }
   ],
   "metadata": {
    "collapsed": false,
    "pycharm": {
     "name": "#%%\n"
    }
   }
  }
 ],
 "metadata": {
  "colab": {
   "collapsed_sections": [],
   "name": "smt.ipynb",
   "provenance": []
  },
  "kernelspec": {
   "name": "python3",
   "display_name": "Python 3.7.9 64-bit"
  },
  "language_info": {
   "codemirror_mode": {
    "name": "ipython",
    "version": 3
   },
   "file_extension": ".py",
   "mimetype": "text/x-python",
   "name": "python",
   "nbconvert_exporter": "python",
   "pygments_lexer": "ipython3",
   "version": "3.7.9"
  },
  "interpreter": {
   "hash": "f04d200b35e943e5941ce662a09d462b0ab2e8c5d229c092de841aa16abb7442"
  }
 },
 "nbformat": 4,
 "nbformat_minor": 4
}