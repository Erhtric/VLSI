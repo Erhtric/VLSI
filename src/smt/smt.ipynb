{
 "cells": [
  {
   "cell_type": "code",
   "execution_count": 1,
   "metadata": {
    "colab": {
     "base_uri": "https://localhost:8080/"
    },
    "id": "GwbF6nuHjsS-",
    "outputId": "1af19bcc-a366-4334-82c3-1325b7a27cce",
    "pycharm": {
     "is_executing": true
    }
   },
   "outputs": [],
   "source": [
    "from z3 import *\n",
    "import numpy as np\n",
    "import os\n",
    "import matplotlib.pyplot as plt\n",
    "import cv2\n",
    "import matplotlib.patches as mpatches\n",
    "import time\n"
   ]
  },
  {
   "cell_type": "code",
   "execution_count": 31,
   "metadata": {
    "colab": {
     "base_uri": "https://localhost:8080/"
    },
    "id": "9bH_pSMikY1Z",
    "outputId": "46ced46f-a2fd-4f23-ce93-e5a3d6f12973"
   },
   "outputs": [],
   "source": [
    "\n",
    "def read_instance_text(f):\n",
    "    print(f)\n",
    "    file = open(f)\n",
    "    width = int(file.readline())\n",
    "    # print(\"width \", width)\n",
    "    n_piece = int(file.readline())\n",
    "    pieces = []\n",
    "    for i in range(n_piece):\n",
    "        piece = file.readline()\n",
    "        split_piece = piece.strip().split(\" \")\n",
    "        pieces.append((int(split_piece[0]), int(split_piece[1])))\n",
    "    # print(pieces)\n",
    "    return width, tuple(pieces)\n",
    "\n",
    "\n",
    "def show_shape(s, title, n_circuits):\n",
    "    \"\"\"\n",
    "    create a image with s as image and title as title of the graph\n",
    "    :param s:\n",
    "    :param title:\n",
    "    :param n_circuits:\n",
    "    :return:\n",
    "    \"\"\"\n",
    "    s = cv2.merge([s])\n",
    "    img = plt.imshow(s)\n",
    "\n",
    "    values, counts = np.unique(s, return_counts=True)\n",
    "    # print(counts)\n",
    "    colors = [img.cmap(img.norm(value)) for value in values]\n",
    "    labels = []\n",
    "    starting = 0\n",
    "    if n_circuits + 1 == len(counts):\n",
    "        starting = 1\n",
    "        labels.append(\"Background\")\n",
    "    for i in range(starting, len(counts)):\n",
    "        labels.append(f\"Piece {i + 1}\")\n",
    "    patches = [mpatches.Patch(color=colors[i], label=labels[i]) for i in range(len(counts))]\n",
    "    plt.title(title)\n",
    "    plt.legend(handles=patches, bbox_to_anchor=(1.05, 1), loc=2, borderaxespad=0.)\n",
    "    plt.xticks(list(range(0, s.shape[1] + 1)))\n",
    "    yticks = list(range(0, s.shape[0]))\n",
    "    # yticks.reverse()\n",
    "    plt.yticks(yticks)\n",
    "    plt.ylim(top=s.shape[0])\n",
    "    plt.ylim(bottom=-0.5)\n",
    "    plt.xlim(left=-0.5)\n",
    "    plt.xlim(right=s.shape[1])\n",
    "    plt.gca().invert_yaxis()\n",
    "    # plt.grid(b=True)\n",
    "#     plt.savefig(f\"{title}\")\n",
    "\n",
    "    plt.show()\n",
    "\n",
    "\n",
    "def draw_solution(sol_shape, pieces):\n",
    "    arr = np.zeros(sol_shape)\n",
    "    count = 1\n",
    "    area = 0\n",
    "    for x_t, y_t, x, y in pieces:\n",
    "        # if x == 1:\n",
    "        #     x = 0\n",
    "        # if y == 1:\n",
    "        #     y = 0\n",
    "        area += x_t * y_t\n",
    "        # print(x_t, y_t, x, y)\n",
    "        arr[x:x + x_t, y:y + y_t] = abs(count) * (250 / len(pieces))\n",
    "        count += 1\n",
    "        # print(arr)\n",
    "#     print(area)\n",
    "    arr = arr / np.max(arr)\n",
    "    return np.rot90(arr)\n",
    "\n",
    "def min_height(dims):\n",
    "    return int(np.min([dims[i][1] for i in range(len(dims))]))\n",
    "\n",
    "def compute_area_circuits(dims):\n",
    "    return sum([dim[0]* dim[1] for dim in dims])\n",
    "\n",
    "\n",
    "def dims_sol_unify(dims, sols): \n",
    "    return [(dims[i][0], dims[i][1],sols[i][0],sols[i][1]) for i in range(len(sols))]"
   ]
  },
  {
   "cell_type": "code",
   "execution_count": 48,
   "metadata": {
    "id": "oeF-duspjxLz"
   },
   "outputs": [],
   "source": [
    "\n",
    "\n",
    "def vlsi_instance(dims, width, max_height):\n",
    "  \"\"\"\n",
    "        Variable declaration\n",
    "  \"\"\"\n",
    "  height = Int('height')\n",
    "  corner_coords = [[Int(\"corner_coords_%s_%s\" % (i + 1, j + 1)) for j in range(2)] for i in range(len(dims))]\n",
    "\n",
    "  x = [[Bool(f\"x_{i + 1}_{j+1}\") for j in range(len(dims))] for i in range(len(dims))]\n",
    "  y = [[Bool(f\"y_{i + 1}_{j+1}\") for j in range(len(dims))] for i in range(len(dims))]\n",
    "\n",
    "  \"\"\"\n",
    "        Constraint definition\n",
    "  \"\"\"\n",
    "    # board boundaries constraints\n",
    "  boundaries_c_width = [And(0 <= corner_coords[i][0], corner_coords[i][0] + dims[i][0] <= width) for i in range(len(dims))]\n",
    "  boundaries_c_height = [And(0 <= corner_coords[i][1], corner_coords[i][1] + dims[i][1] <= height) for i in range(len(dims))]\n",
    "  height_constraint = [And(height < max_height, height > min_height(dims))]\n",
    " \n",
    "  # no overlapping constraints\n",
    "\n",
    "  no_overlapping = []\n",
    "  for i in range(len(dims)):\n",
    "    for j in range(len(dims)): # to fix\n",
    "      if i != j:\n",
    "        no_overlapping.append(\n",
    "          If(corner_coords[i][0] < corner_coords[j][0],\n",
    "                corner_coords[i][0] + dims[i][0] <= corner_coords[j][0] + width * And(x[i][j], y[i][j]),\n",
    "          If(corner_coords[i][1] < corner_coords[j][1],\n",
    "                corner_coords[i][1] + dims[i][1] <= corner_coords[j][1] - width * And(Not(x[i][j]), y[i][j]),\n",
    "          If(corner_coords[i][0] > corner_coords[j][0],\n",
    "                corner_coords[i][0] - dims[j][0] >=corner_coords[j][0] + height * And(x[i][j], Not(y[i][j])),\n",
    "          If(corner_coords[i][1] > corner_coords[j][1],\n",
    "                corner_coords[i][1] - dims[j][1] >= corner_coords[j][1] - height * And(Not(x[i][j]), Not(y[i][j])),\n",
    "                False)))))\n",
    "\n",
    "  for i in range(len(dims)):\n",
    "    for j in range(len(dims)): # to fix\n",
    "      if i != j:\n",
    "        no_overlapping.append(\n",
    "          If(corner_coords[i][0] < corner_coords[j][0], # i to the left of j\n",
    "                corner_coords[i][0] + dims[i][0] <= corner_coords[j][0] + width * And(x[i][j], y[i][j]),\n",
    "          If(corner_coords[i][1] < corner_coords[j][1], # i below j\n",
    "                corner_coords[i][1] + dims[i][1] <= corner_coords[j][1] - width * Not(x[i][j]),\n",
    "          If(corner_coords[i][0] > corner_coords[j][0], # i to the right of j \n",
    "                corner_coords[i][0] - dims[j][0] >=corner_coords[j][0] + height * Not(y[i][j]),\n",
    "          If(corner_coords[i][1] > corner_coords[j][1], # i above j \n",
    "                corner_coords[i][1] - dims[j][1] >= corner_coords[j][1] - height * Or(x[i][j],y[i][j]),\n",
    "                False)))))\n",
    "  all_constraints = height_constraint + boundaries_c_width  + boundaries_c_height + no_overlapping\n",
    "  \n",
    "  \"\"\"\n",
    "    Solving phase\n",
    "  \"\"\"\n",
    "  solver = Optimize()\n",
    "\n",
    "  solver.add(all_constraints)\n",
    "  # minimizing function\n",
    "  circuit_area = compute_area_circuits(dims)\n",
    "  solver.minimize(height*width - circuit_area)\n",
    "\n",
    "  if solver.check() == sat:\n",
    "    m = solver.model()\n",
    "    return int(m.evaluate(height).as_string()), [[int(m.evaluate(corner_coords[i][j]).as_string()) for j in range(2)] for i in range(len(dims))]\n",
    "  else:\n",
    "    print(\"Failed to find a solution\")\n",
    "    return None\n",
    "\n"
   ]
  },
  {
   "cell_type": "code",
   "execution_count": null,
   "metadata": {
    "colab": {
     "base_uri": "https://localhost:8080/"
    },
    "id": "cj7ibEOTlCZY",
    "outputId": "e5a4db9f-05c2-47cd-901c-a41c0f249308"
   },
   "outputs": [
    {
     "name": "stdout",
     "output_type": "stream",
     "text": [
      "../../instances/ins-1.txt\n",
      "Solution (width, height): (8, 8), time: 1.6282607588827505e+18s\n"
     ]
    },
    {
     "data": {
      "image/png": "[encoded data removed]",
      "text/plain": [
       "<Figure size 432x288 with 1 Axes>"
      ]
     },
     "metadata": {
      "needs_background": "light"
     },
     "output_type": "display_data"
    },
    {
     "name": "stdout",
     "output_type": "stream",
     "text": [
      "../../instances/ins-10.txt\n",
      "Solution (width, height): (17, 19), time: 1.6282608125133466e+18s\n"
     ]
    },
    {
     "data": {
      "image/png": "[encoded data removed]",
      "text/plain": [
       "<Figure size 432x288 with 1 Axes>"
      ]
     },
     "metadata": {
      "needs_background": "light"
     },
     "output_type": "display_data"
    },
    {
     "name": "stdout",
     "output_type": "stream",
     "text": [
      "../../instances/ins-11.txt\n"
     ]
    }
   ],
   "source": [
    "path = \"../../instances/\"\n",
    "instances = os.listdir(path)\n",
    "# instances = [\"ins-3.txt\"]\n",
    "time_per_instance = []\n",
    "for i in range(len(instances)): \n",
    "#     print(path+instance)\n",
    "    instance = instances[i]\n",
    "    width, dims = read_instance_text(path+instance)\n",
    "    \n",
    "#     print(dims)\n",
    "    max_height = int(np.sum([dims[i][1] for i in range(len(dims))]))\n",
    "#     print(f\"Maximum height reachable: {max_height}\")\n",
    "\n",
    "    start_time = time.time_ns()\n",
    "    height, solutions = vlsi_instance(dims, width, max_height)\n",
    "    end_time = time.time_ns()\n",
    "    end_time = end_time-start_time/ 10**9\n",
    "    print(f\"Solution (width, height): {width,height}, time: {round(end_time,2)}s\")\n",
    "    time_per_instance.append((instance, end_time))\n",
    "    solutions = dims_sol_unify(dims, solutions)\n",
    "    arr = draw_solution((width,height), solutions)\n",
    "    show_shape(arr, instance,len(dims))\n",
    "\n",
    "\n",
    "    "
   ]
  }
 ],
 "metadata": {
  "colab": {
   "collapsed_sections": [],
   "name": "smt.ipynb",
   "provenance": []
  },
  "kernelspec": {
   "display_name": "Python 3",
   "language": "python",
   "name": "python3"
  },
  "language_info": {
   "codemirror_mode": {
    "name": "ipython",
    "version": 3
   },
   "file_extension": ".py",
   "mimetype": "text/x-python",
   "name": "python",
   "nbconvert_exporter": "python",
   "pygments_lexer": "ipython3",
   "version": "3.7.9"
  }
 },
 "nbformat": 4,
 "nbformat_minor": 4
}
