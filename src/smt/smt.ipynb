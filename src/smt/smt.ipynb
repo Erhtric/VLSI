{
 "cells": [
  {
   "cell_type": "code",
   "execution_count": null,
   "metadata": {
    "colab": {
     "base_uri": "https://localhost:8080/"
    },
    "id": "GwbF6nuHjsS-",
    "outputId": "1af19bcc-a366-4334-82c3-1325b7a27cce"
   },
   "outputs": [],
   "source": [
    "from itertools import combinations\n",
    "from z3 import *\n",
    "import numpy as np\n"
   ]
  },
  {
   "cell_type": "code",
   "execution_count": null,
   "metadata": {
    "colab": {
     "base_uri": "https://localhost:8080/"
    },
    "id": "9bH_pSMikY1Z",
    "outputId": "46ced46f-a2fd-4f23-ce93-e5a3d6f12973"
   },
   "outputs": [],
   "source": [
    "width = 8\n",
    "dims = ((3, 3),\n",
    "            (3, 5),\n",
    "            (5, 3),\n",
    "            (5, 5))\n",
    "print(dims)\n",
    "max_height = int(np.sum([dims[i][1] for i in range(len(dims))]))\n",
    "print(f\"Maximum height reachable: {max_height}\")"
   ]
  },
  {
   "cell_type": "code",
   "execution_count": null,
   "metadata": {
    "id": "oeF-duspjxLz"
   },
   "outputs": [],
   "source": [
    "def min_height(dims):\n",
    "  return int(np.min([dims[i][1] for i in range(len(dims))]))\n",
    "\n",
    "def compute_area_circuits(dims):\n",
    "  return sum([dim[0]* dim[1] for dim in dims])\n",
    "\n",
    "\n",
    "def vlsi_instance(dims, width, max_height):\n",
    "  \"\"\"\n",
    "        Variable declaration\n",
    "  \"\"\"\n",
    "  height = Int('height')\n",
    "  corner_coords = [[Int(\"corner_coords_%s_%s\" % (i + 1, j + 1)) for j in range(2)] for i in range(len(dims))]\n",
    "\n",
    "  x = [[Bool(f\"x_{i + 1}_{j+1}\") for j in range(len(dims))] for i in range(len(dims))]\n",
    "  y = [[Bool(f\"y_{i + 1}_{j+1}\") for j in range(len(dims))] for i in range(len(dims))]\n",
    "\n",
    "  \"\"\"\n",
    "        Constraint definition\n",
    "  \"\"\"\n",
    "    # board boundaries constraints\n",
    "  boundaries_c_x = [And(0 <= corner_coords[i][0], corner_coords[i][0] + dims[i][0] <= width) for i in range(len(dims))]\n",
    "  boundaries_c_y = [And(0 <= corner_coords[i][1], corner_coords[i][1] + dims[i][1] <= height) for i in range(len(dims))]\n",
    "  height_constraint = [And(height < max_height, height > min_height(dims))]\n",
    " \n",
    "  # no overlapping constraints\n",
    "\n",
    "  no_overlapping = []\n",
    "  for i in range(len(dims)):\n",
    "    for j in range(len(dims)): # to fix\n",
    "      if i != j:\n",
    "        no_overlapping.append(\n",
    "          If(corner_coords[i][0] < corner_coords[j][0],\n",
    "                corner_coords[i][0] + dims[i][0] <= corner_coords[j][0],\n",
    "          If(corner_coords[i][1] < corner_coords[j][1],\n",
    "                corner_coords[i][1] + dims[i][1] <= corner_coords[j][1],\n",
    "          If(corner_coords[i][0] > corner_coords[j][0],\n",
    "                corner_coords[i][0] - dims[j][0] >=corner_coords[j][0],\n",
    "          If(corner_coords[i][1] > corner_coords[j][1],\n",
    "                corner_coords[i][1] - dims[j][1] >= corner_coords[j][1],\n",
    "                False)))))\n",
    "\n",
    "  # print(no_overlapping)\n",
    "  all_constraints = height_constraint + boundaries_c_x  + boundaries_c_y + no_overlapping\n",
    "  \n",
    "  \"\"\"\n",
    "    Solving phase\n",
    "  \"\"\"\n",
    "  solver = Optimize()\n",
    "  solver.add(all_constraints)\n",
    "  # minimizing function\n",
    "  circuit_area = compute_area_circuits(dims)\n",
    "  solver.minimize(width* height - circuit_area)\n",
    "  if solver.check() == sat:\n",
    "    m = solver.model()\n",
    "    return m.evaluate(height), [[int(m.evaluate(corner_coords[i][j]).as_string()) for j in range(2)] for i in range(len(dims))]\n",
    "  else:\n",
    "    print(\"Failed to find a solution\")\n",
    "    return None\n"
   ]
  },
  {
   "cell_type": "code",
   "execution_count": 8,
   "metadata": {
    "colab": {
     "base_uri": "https://localhost:8080/"
    },
    "id": "cj7ibEOTlCZY",
    "outputId": "e5a4db9f-05c2-47cd-901c-a41c0f249308"
   },
   "outputs": [
    {
     "ename": "NameError",
     "evalue": "name 'Int' is not defined",
     "output_type": "error",
     "traceback": [
      "\u001b[1;31m---------------------------------------------------------------------------\u001b[0m",
      "\u001b[1;31mNameError\u001b[0m                                 Traceback (most recent call last)",
      "\u001b[1;32m<ipython-input-8-ba7a9de3e38e>\u001b[0m in \u001b[0;36m<module>\u001b[1;34m\u001b[0m\n\u001b[1;32m----> 1\u001b[1;33m \u001b[0mvlsi_instance\u001b[0m\u001b[1;33m(\u001b[0m\u001b[0mdims\u001b[0m\u001b[1;33m,\u001b[0m \u001b[0mwidth\u001b[0m\u001b[1;33m,\u001b[0m \u001b[0mmax_height\u001b[0m\u001b[1;33m)\u001b[0m\u001b[1;33m\u001b[0m\u001b[1;33m\u001b[0m\u001b[0m\n\u001b[0m",
      "\u001b[1;32m<ipython-input-7-0f33a597ad0e>\u001b[0m in \u001b[0;36mvlsi_instance\u001b[1;34m(dims, width, max_height)\u001b[0m\n\u001b[0;32m     10\u001b[0m         \u001b[0mVariable\u001b[0m \u001b[0mdeclaration\u001b[0m\u001b[1;33m\u001b[0m\u001b[1;33m\u001b[0m\u001b[0m\n\u001b[0;32m     11\u001b[0m   \"\"\"\n\u001b[1;32m---> 12\u001b[1;33m   \u001b[0mheight\u001b[0m \u001b[1;33m=\u001b[0m \u001b[0mInt\u001b[0m\u001b[1;33m(\u001b[0m\u001b[1;34m'height'\u001b[0m\u001b[1;33m)\u001b[0m\u001b[1;33m\u001b[0m\u001b[1;33m\u001b[0m\u001b[0m\n\u001b[0m\u001b[0;32m     13\u001b[0m   \u001b[0mcorner_coords\u001b[0m \u001b[1;33m=\u001b[0m \u001b[1;33m[\u001b[0m\u001b[1;33m[\u001b[0m\u001b[0mInt\u001b[0m\u001b[1;33m(\u001b[0m\u001b[1;34m\"corner_coords_%s_%s\"\u001b[0m \u001b[1;33m%\u001b[0m \u001b[1;33m(\u001b[0m\u001b[0mi\u001b[0m \u001b[1;33m+\u001b[0m \u001b[1;36m1\u001b[0m\u001b[1;33m,\u001b[0m \u001b[0mj\u001b[0m \u001b[1;33m+\u001b[0m \u001b[1;36m1\u001b[0m\u001b[1;33m)\u001b[0m\u001b[1;33m)\u001b[0m \u001b[1;32mfor\u001b[0m \u001b[0mj\u001b[0m \u001b[1;32min\u001b[0m \u001b[0mrange\u001b[0m\u001b[1;33m(\u001b[0m\u001b[1;36m2\u001b[0m\u001b[1;33m)\u001b[0m\u001b[1;33m]\u001b[0m \u001b[1;32mfor\u001b[0m \u001b[0mi\u001b[0m \u001b[1;32min\u001b[0m \u001b[0mrange\u001b[0m\u001b[1;33m(\u001b[0m\u001b[0mlen\u001b[0m\u001b[1;33m(\u001b[0m\u001b[0mdims\u001b[0m\u001b[1;33m)\u001b[0m\u001b[1;33m)\u001b[0m\u001b[1;33m]\u001b[0m\u001b[1;33m\u001b[0m\u001b[1;33m\u001b[0m\u001b[0m\n\u001b[0;32m     14\u001b[0m \u001b[1;33m\u001b[0m\u001b[0m\n",
      "\u001b[1;31mNameError\u001b[0m: name 'Int' is not defined"
     ]
    }
   ],
   "source": [
    " vlsi_instance(dims, width, max_height)"
   ]
  }
 ],
 "metadata": {
  "colab": {
   "collapsed_sections": [],
   "name": "smt.ipynb",
   "provenance": []
  },
  "kernelspec": {
   "display_name": "Python 3",
   "language": "python",
   "name": "python3"
  },
  "language_info": {
   "codemirror_mode": {
    "name": "ipython",
    "version": 3
   },
   "file_extension": ".py",
   "mimetype": "text/x-python",
   "name": "python",
   "nbconvert_exporter": "python",
   "pygments_lexer": "ipython3",
   "version": "3.7.9"
  }
 },
 "nbformat": 4,
 "nbformat_minor": 4
}
