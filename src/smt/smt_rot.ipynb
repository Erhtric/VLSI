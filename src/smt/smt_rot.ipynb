{
 "cells": [
  {
   "cell_type": "code",
   "execution_count": 1,
   "source": [
    "from z3 import *\r\n",
    "import numpy as np"
   ],
   "outputs": [],
   "metadata": {}
  },
  {
   "cell_type": "code",
   "execution_count": 2,
   "source": [
    "width = 8\r\n",
    "dims = ((3, 3),\r\n",
    "            (3, 5),\r\n",
    "            (5, 3),\r\n",
    "            (5, 5))\r\n",
    "print(dims)\r\n",
    "max_height = int(np.sum([dims[i][1] for i in range(len(dims))]))\r\n",
    "print(f\"Maximum height reachable: {max_height}\")"
   ],
   "outputs": [
    {
     "output_type": "stream",
     "name": "stdout",
     "text": [
      "((3, 3), (3, 5), (5, 3), (5, 5))\n",
      "Maximum height reachable: 16\n"
     ]
    }
   ],
   "metadata": {}
  },
  {
   "cell_type": "code",
   "execution_count": 3,
   "source": [
    "def min_height(dims):\r\n",
    "  return int(np.min([dims[i][1] for i in range(len(dims))]))\r\n",
    "\r\n",
    "def compute_area_circuits(dims):\r\n",
    "  return sum([dim[0]* dim[1] for dim in dims])\r\n",
    "\r\n",
    "\r\n",
    "def vlsi_instance(dims, width, max_height):\r\n",
    "        \"\"\"\r\n",
    "                Variable declaration\r\n",
    "        \"\"\"\r\n",
    "        height = Int('height')\r\n",
    "        corner_coords = [[Int(\"corner_coords_%s_%s\" % (i + 1, j + 1)) for j in range(2)] for i in range(len(dims))]\r\n",
    "\r\n",
    "        # The additional Boolean variable rot is used to indicate the change of orientation of the block\r\n",
    "        # Since they are all rectangles, a simple swap between the two edges is enough to distinguish between\r\n",
    "        # the original rectangle and the rotated one\r\n",
    "        # z = False - the block is in its original orientation\r\n",
    "        # z = True - the block is rotated by 90 degrees\r\n",
    "        rot = [Bool(f\"rot_{i + 1}\") for i in range(len(dims))]\r\n",
    "\r\n",
    "        \"\"\"\r\n",
    "                Constraint definition\r\n",
    "        \"\"\"\r\n",
    "        # board boundaries constraints\r\n",
    "        boundaries_c_x = [And(0 <= corner_coords[i][0],\r\n",
    "                                corner_coords[i][0] + rot[i] * dims[i][0] + Not(rot[i]) * dims[i][1] <= width) for i in range(len(dims))]\r\n",
    "        boundaries_c_y = [And(0 <= corner_coords[i][1],\r\n",
    "                                corner_coords[i][1] + rot[i] * dims[i][0] + Not(rot[i]) * dims[i][1] <= height) for i in range(len(dims))]\r\n",
    "        height_constraint = [And(height < max_height, height > min_height(dims))]\r\n",
    "\r\n",
    "        # no overlapping constraints\r\n",
    "\r\n",
    "\r\n",
    "        no_overlapping = []\r\n",
    "        for i in range(len(dims)):\r\n",
    "                for j in range(len(dims)): # to fix\r\n",
    "                        if i != j:\r\n",
    "                                no_overlapping.append(\r\n",
    "                                # block i is on the left of block j: xi < xj\r\n",
    "                                If(corner_coords[i][0] < corner_coords[j][0],\r\n",
    "                                        corner_coords[i][0] + (rot[i] * dims[i][0]) + (Not(rot[i]) * dims[i][1]) <= corner_coords[j][0],\r\n",
    "                                # block i is below block j: yi < yj\r\n",
    "                                If(corner_coords[i][1] < corner_coords[j][1],\r\n",
    "                                        corner_coords[i][1] + (rot[i] * dims[i][0]) + (Not(rot[i]) * dims[i][1]) <= corner_coords[j][1],\r\n",
    "                                # block i is on the right of block j: xi > xj\r\n",
    "                                If(corner_coords[i][0] > corner_coords[j][0],\r\n",
    "                                        corner_coords[i][0] - (rot[j] * dims[j][0]) - (Not(rot[j]) * dims[j][1]) >= corner_coords[j][0],\r\n",
    "                                # block i is above block j: yi > yj\r\n",
    "                                If(corner_coords[i][1] > corner_coords[j][1],\r\n",
    "                                        corner_coords[i][1] - (rot[j] * dims[j][0]) - (Not(rot[j]) * dims[j][1]) >= corner_coords[j][1],\r\n",
    "                                        False)))))\r\n",
    "\r\n",
    "        #     print(no_overlapping)\r\n",
    "        all_constraints = height_constraint + boundaries_c_x  + boundaries_c_y + no_overlapping\r\n",
    "\r\n",
    "        \"\"\"\r\n",
    "                Solving phase\r\n",
    "        \"\"\"\r\n",
    "        solver = Optimize()\r\n",
    "        solver.add(all_constraints)\r\n",
    "        # minimizing function\r\n",
    "        circuit_area = compute_area_circuits(dims)\r\n",
    "        solver.minimize(width* height - circuit_area)\r\n",
    "        if solver.check() == sat:\r\n",
    "                m = solver.model()\r\n",
    "                return m.evaluate(height), [[int(m.evaluate(corner_coords[i][j]).as_string()) for j in range(2)] for i in range(len(dims))]\r\n",
    "        else:\r\n",
    "                print(\"Failed to find a solution\")\r\n",
    "                return None\r\n"
   ],
   "outputs": [],
   "metadata": {}
  },
  {
   "cell_type": "code",
   "execution_count": 4,
   "source": [
    "vlsi_instance(dims, width, max_height)"
   ],
   "outputs": [
    {
     "output_type": "execute_result",
     "data": {
      "text/plain": [
       "(8, [[5, 0], [5, 4], [0, 0], [0, 3]])"
      ]
     },
     "metadata": {},
     "execution_count": 4
    }
   ],
   "metadata": {}
  },
  {
   "cell_type": "code",
   "execution_count": null,
   "source": [],
   "outputs": [],
   "metadata": {}
  }
 ],
 "metadata": {
  "orig_nbformat": 4,
  "language_info": {
   "name": "python",
   "version": "3.8.10",
   "mimetype": "text/x-python",
   "codemirror_mode": {
    "name": "ipython",
    "version": 3
   },
   "pygments_lexer": "ipython3",
   "nbconvert_exporter": "python",
   "file_extension": ".py"
  },
  "kernelspec": {
   "name": "python3",
   "display_name": "Python 3.8.10 64-bit ('cdmo': conda)"
  },
  "interpreter": {
   "hash": "8cc1b87302f33cbde731ce1e1c19a3bdccd3f9f68ffb9f754e47b1186aee3cd7"
  }
 },
 "nbformat": 4,
 "nbformat_minor": 2
}